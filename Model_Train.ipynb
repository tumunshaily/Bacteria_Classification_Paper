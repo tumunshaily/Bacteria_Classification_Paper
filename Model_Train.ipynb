{
 "cells": [
  {
   "cell_type": "code",
   "execution_count": null,
   "metadata": {},
   "outputs": [],
   "source": [
    "from fastai.tabular import *                              \n",
    "from fastai.vision import *                          \n",
    "path = \" \" # dataset folder path after cropping and getting new sample\n",
    "\n",
    "np.random.seed(10)\n",
    "data = ImageDataBunch.from_folder(path, valid_pct=0.2,\n",
    "        ds_tfms=get_transforms(), size=224, num_workers=4, bs=100).normalize(imagenet_stats)\n",
    "data.classes, data.c, len(data.train_ds), len(data.valid_ds)\n",
    "\n",
    "learn = cnn_learner(data, models.resnet34, metrics=accuracy).to_fp16()\n",
    "\n",
    "learn.fit_one_cycle(3)\n",
    "\n",
    "learn.lr_find(stop_div=False)\n",
    "\n",
    "learn.recorder.plot()\n",
    "\n",
    "interp = ClassificationInterpretation.from_learner(learn)\n",
    "interp.plot_confusion_matrix(figsize=(10,10), dpi=200)\n",
    "\n",
    "interp.plot_top_losses(6, figsize=(15,15))"
   ]
  }
 ],
 "metadata": {
  "kernelspec": {
   "display_name": "Python 3",
   "language": "python",
   "name": "python3"
  },
  "language_info": {
   "codemirror_mode": {
    "name": "ipython",
    "version": 3
   },
   "file_extension": ".py",
   "mimetype": "text/x-python",
   "name": "python",
   "nbconvert_exporter": "python",
   "pygments_lexer": "ipython3",
   "version": "3.7.4"
  }
 },
 "nbformat": 4,
 "nbformat_minor": 2
}
