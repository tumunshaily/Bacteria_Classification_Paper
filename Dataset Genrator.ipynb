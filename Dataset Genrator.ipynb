{
 "cells": [
  {
   "cell_type": "markdown",
   "metadata": {},
   "source": [
    "# Cropping the orignal Data image into 224*224 pixels for Resnet"
   ]
  },
  {
   "cell_type": "code",
   "execution_count": null,
   "metadata": {},
   "outputs": [],
   "source": [
    "from PIL import Image\n",
    "import random \n",
    "import os\n",
    "path = \" \" #write the path of orignal dataset folder where all the bacterias photo is stored \n",
    "for x in os.listdir(path):    \n",
    "    directory = x\n",
    "    parent_dir = path+\"/Traning/\"\n",
    "    d = os.path.join(parent_dir, directory)  \n",
    "    os.makedirs(d)  \n",
    "    for y in os.listdir(path+\"/\"+x):        \n",
    "        img = Image.open(path+\"/\"+x+\"/\"+y)\n",
    "        for i in range(0,1824,2):\n",
    "            for j in range(0,1308,2):\n",
    "                area = (i,j,224+i,224+j)       \n",
    "            cropped_img = img.crop(area)\n",
    "            cropped_img.save(d+\"/\"+y+str(i)+\".jpeg\") "
   ]
  },
  {
   "cell_type": "markdown",
   "metadata": {},
   "source": [
    "# Removing the blank images from the recently created data set"
   ]
  },
  {
   "cell_type": "code",
   "execution_count": null,
   "metadata": {},
   "outputs": [],
   "source": [
    "from PIL import Image\n",
    "from numpy import asarray\n",
    "import os\n",
    "path = parent_dir # path of training folder\n",
    "for y in os.listdir(path):        \n",
    "    new = path+\"/\"+y\n",
    "    for x in os.listdir(new):  \n",
    "        n = path+\"/\"+x\n",
    "        image = Image.open(n)\n",
    "        data = asarray(image)\n",
    "        data = data.sum()\n",
    "        if (data>30597100):\n",
    "            os.remove(n)"
   ]
  }
 ],
 "metadata": {
  "kernelspec": {
   "display_name": "Python 3",
   "language": "python",
   "name": "python3"
  },
  "language_info": {
   "codemirror_mode": {
    "name": "ipython",
    "version": 3
   },
   "file_extension": ".py",
   "mimetype": "text/x-python",
   "name": "python",
   "nbconvert_exporter": "python",
   "pygments_lexer": "ipython3",
   "version": "3.7.4"
  }
 },
 "nbformat": 4,
 "nbformat_minor": 2
}
